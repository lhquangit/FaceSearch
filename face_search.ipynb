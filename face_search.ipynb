{
 "cells": [
  {
   "cell_type": "code",
   "execution_count": 1,
   "metadata": {
    "collapsed": true
   },
   "outputs": [],
   "source": [
    "from pathlib import Path"
   ]
  },
  {
   "cell_type": "code",
   "execution_count": 2,
   "metadata": {
    "collapsed": false
   },
   "outputs": [],
   "source": [
    "import cv2\n",
    "import towhee\n",
    "from pymilvus import Collection, connections\n",
    "from towhee._types.image import Image"
   ]
  },
  {
   "cell_type": "code",
   "execution_count": 3,
   "metadata": {
    "collapsed": false
   },
   "outputs": [],
   "source": [
    "import model\n",
    "from database import create_collection"
   ]
  },
  {
   "cell_type": "code",
   "execution_count": 4,
   "metadata": {
    "collapsed": false
   },
   "outputs": [],
   "source": [
    "DATASET = Path(\"dataset/rikai/\")"
   ]
  },
  {
   "cell_type": "code",
   "execution_count": 5,
   "metadata": {
    "collapsed": false
   },
   "outputs": [],
   "source": [
    "def read_images(results):\n",
    "    return [\n",
    "        Image(cv2.imread(result.id), \"BGR\")\n",
    "        for result in results\n",
    "    ]"
   ]
  },
  {
   "cell_type": "code",
   "execution_count": 7,
   "outputs": [
    {
     "ename": "NameError",
     "evalue": "name 'connections' is not defined",
     "output_type": "error",
     "traceback": [
      "\u001B[0;31m---------------------------------------------------------------------------\u001B[0m",
      "\u001B[0;31mNameError\u001B[0m                                 Traceback (most recent call last)",
      "Cell \u001B[0;32mIn[7], line 1\u001B[0m\n\u001B[0;32m----> 1\u001B[0m \u001B[43mconnections\u001B[49m\u001B[38;5;241m.\u001B[39mconnect(host\u001B[38;5;241m=\u001B[39m\u001B[38;5;124m\"\u001B[39m\u001B[38;5;124m127.0.0.1\u001B[39m\u001B[38;5;124m\"\u001B[39m, port\u001B[38;5;241m=\u001B[39m\u001B[38;5;124m\"\u001B[39m\u001B[38;5;124m19530\u001B[39m\u001B[38;5;124m\"\u001B[39m)\n",
      "\u001B[0;31mNameError\u001B[0m: name 'connections' is not defined"
     ]
    }
   ],
   "source": [
    "connections.connect(host=\"127.0.0.1\", port=\"19530\")"
   ],
   "metadata": {
    "collapsed": false
   }
  },
  {
   "cell_type": "code",
   "execution_count": 6,
   "metadata": {
    "collapsed": false
   },
   "outputs": [
    {
     "ename": "ConnectionNotExistException",
     "evalue": "<ConnectionNotExistException: (code=1, message=should create connect first.)>",
     "output_type": "error",
     "traceback": [
      "\u001B[0;31m---------------------------------------------------------------------------\u001B[0m",
      "\u001B[0;31mConnectionNotExistException\u001B[0m               Traceback (most recent call last)",
      "Cell \u001B[0;32mIn[6], line 1\u001B[0m\n\u001B[0;32m----> 1\u001B[0m collection \u001B[38;5;241m=\u001B[39m \u001B[43mcreate_collection\u001B[49m\u001B[43m(\u001B[49m\u001B[38;5;124;43m\"\u001B[39;49m\u001B[38;5;124;43mface_search\u001B[39;49m\u001B[38;5;124;43m\"\u001B[39;49m\u001B[43m,\u001B[49m\u001B[43m \u001B[49m\u001B[43mdim\u001B[49m\u001B[38;5;241;43m=\u001B[39;49m\u001B[38;5;241;43m512\u001B[39;49m\u001B[43m)\u001B[49m\n",
      "File \u001B[0;32m~/PycharmProjects/Face-Search/database/connection.py:11\u001B[0m, in \u001B[0;36mcreate_collection\u001B[0;34m(collection_name, dim)\u001B[0m\n\u001B[1;32m     10\u001B[0m \u001B[38;5;28;01mdef\u001B[39;00m \u001B[38;5;21mcreate_collection\u001B[39m(collection_name: \u001B[38;5;28mstr\u001B[39m, dim: \u001B[38;5;28mint\u001B[39m \u001B[38;5;241m|\u001B[39m \u001B[38;5;28mtuple\u001B[39m[\u001B[38;5;28mint\u001B[39m]):\n\u001B[0;32m---> 11\u001B[0m     \u001B[38;5;28;01mif\u001B[39;00m \u001B[43mutility\u001B[49m\u001B[38;5;241;43m.\u001B[39;49m\u001B[43mhas_collection\u001B[49m\u001B[43m(\u001B[49m\u001B[43mcollection_name\u001B[49m\u001B[43m)\u001B[49m:\n\u001B[1;32m     12\u001B[0m         utility\u001B[38;5;241m.\u001B[39mdrop_collection(collection_name)\n\u001B[1;32m     14\u001B[0m     fields \u001B[38;5;241m=\u001B[39m [\n\u001B[1;32m     15\u001B[0m         FieldSchema(\n\u001B[1;32m     16\u001B[0m             name\u001B[38;5;241m=\u001B[39m\u001B[38;5;124m\"\u001B[39m\u001B[38;5;124mpath\u001B[39m\u001B[38;5;124m\"\u001B[39m, dtype\u001B[38;5;241m=\u001B[39mDataType\u001B[38;5;241m.\u001B[39mVARCHAR, max_length\u001B[38;5;241m=\u001B[39m\u001B[38;5;241m512\u001B[39m, is_primary\u001B[38;5;241m=\u001B[39m\u001B[38;5;28;01mTrue\u001B[39;00m\n\u001B[1;32m     17\u001B[0m         ),\n\u001B[1;32m     18\u001B[0m         FieldSchema(name\u001B[38;5;241m=\u001B[39m\u001B[38;5;124m\"\u001B[39m\u001B[38;5;124membedding\u001B[39m\u001B[38;5;124m\"\u001B[39m, dtype\u001B[38;5;241m=\u001B[39mDataType\u001B[38;5;241m.\u001B[39mFLOAT_VECTOR, dim\u001B[38;5;241m=\u001B[39mdim),\n\u001B[1;32m     19\u001B[0m     ]\n",
      "File \u001B[0;32m~/mambaforge/envs/face-search/lib/python3.10/site-packages/pymilvus/orm/utility.py:355\u001B[0m, in \u001B[0;36mhas_collection\u001B[0;34m(collection_name, using)\u001B[0m\n\u001B[1;32m    335\u001B[0m \u001B[38;5;28;01mdef\u001B[39;00m \u001B[38;5;21mhas_collection\u001B[39m(collection_name, using\u001B[38;5;241m=\u001B[39m\u001B[38;5;124m\"\u001B[39m\u001B[38;5;124mdefault\u001B[39m\u001B[38;5;124m\"\u001B[39m):\n\u001B[1;32m    336\u001B[0m     \u001B[38;5;124;03m\"\"\"\u001B[39;00m\n\u001B[1;32m    337\u001B[0m \u001B[38;5;124;03m    Checks whether a specified collection exists.\u001B[39;00m\n\u001B[1;32m    338\u001B[0m \n\u001B[0;32m   (...)\u001B[0m\n\u001B[1;32m    353\u001B[0m \u001B[38;5;124;03m        >>> utility.has_collection(\"test_collection\")\u001B[39;00m\n\u001B[1;32m    354\u001B[0m \u001B[38;5;124;03m    \"\"\"\u001B[39;00m\n\u001B[0;32m--> 355\u001B[0m     \u001B[38;5;28;01mreturn\u001B[39;00m \u001B[43m_get_connection\u001B[49m\u001B[43m(\u001B[49m\u001B[43musing\u001B[49m\u001B[43m)\u001B[49m\u001B[38;5;241m.\u001B[39mhas_collection(collection_name)\n",
      "File \u001B[0;32m~/mambaforge/envs/face-search/lib/python3.10/site-packages/pymilvus/orm/utility.py:165\u001B[0m, in \u001B[0;36m_get_connection\u001B[0;34m(alias)\u001B[0m\n\u001B[1;32m    164\u001B[0m \u001B[38;5;28;01mdef\u001B[39;00m \u001B[38;5;21m_get_connection\u001B[39m(alias):\n\u001B[0;32m--> 165\u001B[0m     \u001B[38;5;28;01mreturn\u001B[39;00m \u001B[43mconnections\u001B[49m\u001B[38;5;241;43m.\u001B[39;49m\u001B[43m_fetch_handler\u001B[49m\u001B[43m(\u001B[49m\u001B[43malias\u001B[49m\u001B[43m)\u001B[49m\n",
      "File \u001B[0;32m~/mambaforge/envs/face-search/lib/python3.10/site-packages/pymilvus/orm/connections.py:379\u001B[0m, in \u001B[0;36mConnections._fetch_handler\u001B[0;34m(self, alias)\u001B[0m\n\u001B[1;32m    377\u001B[0m conn \u001B[38;5;241m=\u001B[39m \u001B[38;5;28mself\u001B[39m\u001B[38;5;241m.\u001B[39m_connected_alias\u001B[38;5;241m.\u001B[39mget(alias, \u001B[38;5;28;01mNone\u001B[39;00m)\n\u001B[1;32m    378\u001B[0m \u001B[38;5;28;01mif\u001B[39;00m conn \u001B[38;5;129;01mis\u001B[39;00m \u001B[38;5;28;01mNone\u001B[39;00m:\n\u001B[0;32m--> 379\u001B[0m     \u001B[38;5;28;01mraise\u001B[39;00m ConnectionNotExistException(message\u001B[38;5;241m=\u001B[39mExceptionsMessage\u001B[38;5;241m.\u001B[39mConnectFirst)\n\u001B[1;32m    381\u001B[0m \u001B[38;5;28;01mreturn\u001B[39;00m conn\n",
      "\u001B[0;31mConnectionNotExistException\u001B[0m: <ConnectionNotExistException: (code=1, message=should create connect first.)>"
     ]
    }
   ],
   "source": [
    "collection = create_collection(\"face_search\", dim=512)"
   ]
  },
  {
   "cell_type": "code",
   "execution_count": 8,
   "metadata": {
    "collapsed": false
   },
   "outputs": [],
   "source": [
    "# (\n",
    "#     towhee\n",
    "#     .glob[\"path\"](str(DATASET / \"**/*.png\"))\n",
    "#     .image_decode[\"path\", \"image\"]()\n",
    "#     .extract_embedding[\"image\", \"embedding\"]()\n",
    "#     .ann_insert.milvus[(\"path\", \"embedding\"), \"mr\"](collection=collection)\n",
    "# )"
   ]
  },
  {
   "cell_type": "code",
   "execution_count": 9,
   "metadata": {
    "collapsed": false
   },
   "outputs": [],
   "source": [
    "collection = Collection(\"face_search\")\n",
    "collection.load()"
   ]
  },
  {
   "cell_type": "code",
   "execution_count": 11,
   "metadata": {
    "collapsed": false
   },
   "outputs": [],
   "source": [
    "images = (\n",
    "    towhee\n",
    "    .glob[\"path\"](\"test_images/*.png\")\n",
    "    .image_decode[\"path\", \"image\"]()\n",
    "    .extract_embedding[\"image\", \"embedding\"]()\n",
    "    .ann_search.milvus[\"embedding\", \"results\"](collection=collection, limit=5)\n",
    "    .runas_op[\"results\", \"result_images\"](func=read_images)\n",
    "    .select[\"image\", \"result_images\"]()\n",
    ")"
   ]
  },
  {
   "cell_type": "code",
   "execution_count": 26,
   "metadata": {},
   "outputs": [
    {
     "name": "stdout",
     "output_type": "stream",
     "text": [
      "5\n"
     ]
    }
   ],
   "source": [
    "print(len(images[0].result_images))"
   ]
  }
 ],
 "metadata": {
  "kernelspec": {
   "display_name": "Python 3.10.8 ('face-search')",
   "language": "python",
   "name": "python3"
  },
  "language_info": {
   "codemirror_mode": {
    "name": "ipython",
    "version": 3
   },
   "file_extension": ".py",
   "mimetype": "text/x-python",
   "name": "python",
   "nbconvert_exporter": "python",
   "pygments_lexer": "ipython3",
   "version": "3.10.8"
  },
  "vscode": {
   "interpreter": {
    "hash": "696653102a12ea3b1faae2fdd82d21c76b41562ee4febcb77d286dfe44152738"
   }
  }
 },
 "nbformat": 4,
 "nbformat_minor": 0
}
